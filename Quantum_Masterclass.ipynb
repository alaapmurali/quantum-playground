{
  "cells": [
    {
      "cell_type": "markdown",
      "metadata": {
        "id": "view-in-github",
        "colab_type": "text"
      },
      "source": [
        "<a href=\"https://colab.research.google.com/github/alaapmurali/quantum-playground/blob/main/Quantum_Masterclass.ipynb\" target=\"_parent\"><img src=\"https://colab.research.google.com/assets/colab-badge.svg\" alt=\"Open In Colab\"/></a>"
      ]
    },
    {
      "cell_type": "markdown",
      "id": "859c8b3f",
      "metadata": {
        "id": "859c8b3f"
      },
      "source": [
        "\n",
        "# NYC Tech Week Quantum Masterclass: Program a quantum computer from your laptop\n",
        "\n",
        "Instructors:  \n",
        "Annaliese Estes  \n",
        "Olivia Lanes\n",
        "\n",
        "Email:  \n",
        "annaliese.estes@ibm.com  \n",
        "olivia.lanes@ibm.com"
      ]
    },
    {
      "cell_type": "markdown",
      "id": "87444477",
      "metadata": {
        "id": "87444477"
      },
      "source": [
        "# Magic 8 Ball\n",
        "\n",
        "Here, we will build a Magic 8 Ball program that randomly returns 1 of 8 possible responses. How do we use quantum computing to generate a random number? Computational space scales exponentially in quantum computing. Thus, if we need a random result out of 8 possibilities, our program needs to take a measurement of a quantum state vector that consists of 8 basis states, which represent the computational space of 3 qubits in an equal superposition.\n",
        "\n"
      ]
    },
    {
      "cell_type": "code",
      "execution_count": 1,
      "id": "a81d31ee",
      "metadata": {
        "scrolled": true,
        "id": "a81d31ee",
        "collapsed": true,
        "colab": {
          "base_uri": "https://localhost:8080/"
        },
        "outputId": "b4ef5b4b-be6b-4a80-e80b-2a2fe75e812e"
      },
      "outputs": [
        {
          "output_type": "stream",
          "name": "stdout",
          "text": [
            "Collecting qiskit[visualization]\n",
            "  Downloading qiskit-2.0.2-cp39-abi3-manylinux_2_17_x86_64.manylinux2014_x86_64.whl.metadata (12 kB)\n",
            "Collecting rustworkx>=0.15.0 (from qiskit[visualization])\n",
            "  Downloading rustworkx-0.16.0-cp39-abi3-manylinux_2_17_x86_64.manylinux2014_x86_64.whl.metadata (10 kB)\n",
            "Requirement already satisfied: numpy<3,>=1.17 in /usr/local/lib/python3.11/dist-packages (from qiskit[visualization]) (2.0.2)\n",
            "Requirement already satisfied: scipy>=1.5 in /usr/local/lib/python3.11/dist-packages (from qiskit[visualization]) (1.15.3)\n",
            "Requirement already satisfied: sympy>=1.3 in /usr/local/lib/python3.11/dist-packages (from qiskit[visualization]) (1.13.1)\n",
            "Requirement already satisfied: dill>=0.3 in /usr/local/lib/python3.11/dist-packages (from qiskit[visualization]) (0.3.7)\n",
            "Requirement already satisfied: python-dateutil>=2.8.0 in /usr/local/lib/python3.11/dist-packages (from qiskit[visualization]) (2.9.0.post0)\n",
            "Collecting stevedore>=3.0.0 (from qiskit[visualization])\n",
            "  Downloading stevedore-5.4.1-py3-none-any.whl.metadata (2.3 kB)\n",
            "Requirement already satisfied: typing-extensions in /usr/local/lib/python3.11/dist-packages (from qiskit[visualization]) (4.13.2)\n",
            "Collecting symengine<0.14,>=0.11 (from qiskit[visualization])\n",
            "  Downloading symengine-0.13.0-cp311-cp311-manylinux_2_17_x86_64.manylinux2014_x86_64.whl.metadata (1.2 kB)\n",
            "Requirement already satisfied: matplotlib>=3.3 in /usr/local/lib/python3.11/dist-packages (from qiskit[visualization]) (3.10.0)\n",
            "Requirement already satisfied: pydot in /usr/local/lib/python3.11/dist-packages (from qiskit[visualization]) (3.0.4)\n",
            "Requirement already satisfied: Pillow>=4.2.1 in /usr/local/lib/python3.11/dist-packages (from qiskit[visualization]) (11.2.1)\n",
            "Collecting pylatexenc>=1.4 (from qiskit[visualization])\n",
            "  Downloading pylatexenc-2.10.tar.gz (162 kB)\n",
            "\u001b[2K     \u001b[90m━━━━━━━━━━━━━━━━━━━━━━━━━━━━━━━━━━━━━━━\u001b[0m \u001b[32m162.6/162.6 kB\u001b[0m \u001b[31m5.8 MB/s\u001b[0m eta \u001b[36m0:00:00\u001b[0m\n",
            "\u001b[?25h  Preparing metadata (setup.py) ... \u001b[?25l\u001b[?25hdone\n",
            "Requirement already satisfied: seaborn>=0.9.0 in /usr/local/lib/python3.11/dist-packages (from qiskit[visualization]) (0.13.2)\n",
            "Requirement already satisfied: contourpy>=1.0.1 in /usr/local/lib/python3.11/dist-packages (from matplotlib>=3.3->qiskit[visualization]) (1.3.2)\n",
            "Requirement already satisfied: cycler>=0.10 in /usr/local/lib/python3.11/dist-packages (from matplotlib>=3.3->qiskit[visualization]) (0.12.1)\n",
            "Requirement already satisfied: fonttools>=4.22.0 in /usr/local/lib/python3.11/dist-packages (from matplotlib>=3.3->qiskit[visualization]) (4.58.1)\n",
            "Requirement already satisfied: kiwisolver>=1.3.1 in /usr/local/lib/python3.11/dist-packages (from matplotlib>=3.3->qiskit[visualization]) (1.4.8)\n",
            "Requirement already satisfied: packaging>=20.0 in /usr/local/lib/python3.11/dist-packages (from matplotlib>=3.3->qiskit[visualization]) (24.2)\n",
            "Requirement already satisfied: pyparsing>=2.3.1 in /usr/local/lib/python3.11/dist-packages (from matplotlib>=3.3->qiskit[visualization]) (3.2.3)\n",
            "Requirement already satisfied: six>=1.5 in /usr/local/lib/python3.11/dist-packages (from python-dateutil>=2.8.0->qiskit[visualization]) (1.17.0)\n",
            "Requirement already satisfied: pandas>=1.2 in /usr/local/lib/python3.11/dist-packages (from seaborn>=0.9.0->qiskit[visualization]) (2.2.2)\n",
            "Collecting pbr>=2.0.0 (from stevedore>=3.0.0->qiskit[visualization])\n",
            "  Downloading pbr-6.1.1-py2.py3-none-any.whl.metadata (3.4 kB)\n",
            "Requirement already satisfied: mpmath<1.4,>=1.1.0 in /usr/local/lib/python3.11/dist-packages (from sympy>=1.3->qiskit[visualization]) (1.3.0)\n",
            "Requirement already satisfied: pytz>=2020.1 in /usr/local/lib/python3.11/dist-packages (from pandas>=1.2->seaborn>=0.9.0->qiskit[visualization]) (2025.2)\n",
            "Requirement already satisfied: tzdata>=2022.7 in /usr/local/lib/python3.11/dist-packages (from pandas>=1.2->seaborn>=0.9.0->qiskit[visualization]) (2025.2)\n",
            "Requirement already satisfied: setuptools in /usr/local/lib/python3.11/dist-packages (from pbr>=2.0.0->stevedore>=3.0.0->qiskit[visualization]) (75.2.0)\n",
            "Downloading rustworkx-0.16.0-cp39-abi3-manylinux_2_17_x86_64.manylinux2014_x86_64.whl (2.1 MB)\n",
            "\u001b[2K   \u001b[90m━━━━━━━━━━━━━━━━━━━━━━━━━━━━━━━━━━━━━━━━\u001b[0m \u001b[32m2.1/2.1 MB\u001b[0m \u001b[31m48.5 MB/s\u001b[0m eta \u001b[36m0:00:00\u001b[0m\n",
            "\u001b[?25hDownloading stevedore-5.4.1-py3-none-any.whl (49 kB)\n",
            "\u001b[2K   \u001b[90m━━━━━━━━━━━━━━━━━━━━━━━━━━━━━━━━━━━━━━━━\u001b[0m \u001b[32m49.5/49.5 kB\u001b[0m \u001b[31m3.5 MB/s\u001b[0m eta \u001b[36m0:00:00\u001b[0m\n",
            "\u001b[?25hDownloading symengine-0.13.0-cp311-cp311-manylinux_2_17_x86_64.manylinux2014_x86_64.whl (49.7 MB)\n",
            "\u001b[2K   \u001b[90m━━━━━━━━━━━━━━━━━━━━━━━━━━━━━━━━━━━━━━━━\u001b[0m \u001b[32m49.7/49.7 MB\u001b[0m \u001b[31m20.0 MB/s\u001b[0m eta \u001b[36m0:00:00\u001b[0m\n",
            "\u001b[?25hDownloading qiskit-2.0.2-cp39-abi3-manylinux_2_17_x86_64.manylinux2014_x86_64.whl (6.5 MB)\n",
            "\u001b[2K   \u001b[90m━━━━━━━━━━━━━━━━━━━━━━━━━━━━━━━━━━━━━━━━\u001b[0m \u001b[32m6.5/6.5 MB\u001b[0m \u001b[31m87.8 MB/s\u001b[0m eta \u001b[36m0:00:00\u001b[0m\n",
            "\u001b[?25hDownloading pbr-6.1.1-py2.py3-none-any.whl (108 kB)\n",
            "\u001b[2K   \u001b[90m━━━━━━━━━━━━━━━━━━━━━━━━━━━━━━━━━━━━━━━━\u001b[0m \u001b[32m109.0/109.0 kB\u001b[0m \u001b[31m8.6 MB/s\u001b[0m eta \u001b[36m0:00:00\u001b[0m\n",
            "\u001b[?25hBuilding wheels for collected packages: pylatexenc\n",
            "  Building wheel for pylatexenc (setup.py) ... \u001b[?25l\u001b[?25hdone\n",
            "  Created wheel for pylatexenc: filename=pylatexenc-2.10-py3-none-any.whl size=136817 sha256=654d4fb466e2b88b1c636bb7e1c5ceaad86351747aa6edc6b42b1f2bb34afef8\n",
            "  Stored in directory: /root/.cache/pip/wheels/b1/7a/33/9fdd892f784ed4afda62b685ae3703adf4c91aa0f524c28f03\n",
            "Successfully built pylatexenc\n",
            "Installing collected packages: pylatexenc, symengine, rustworkx, pbr, stevedore, qiskit\n",
            "Successfully installed pbr-6.1.1 pylatexenc-2.10 qiskit-2.0.2 rustworkx-0.16.0 stevedore-5.4.1 symengine-0.13.0\n",
            "Collecting qiskit_ibm_runtime\n",
            "  Downloading qiskit_ibm_runtime-0.40.0-py3-none-any.whl.metadata (21 kB)\n",
            "Requirement already satisfied: requests>=2.19 in /usr/local/lib/python3.11/dist-packages (from qiskit_ibm_runtime) (2.32.3)\n",
            "Collecting requests-ntlm>=1.1.0 (from qiskit_ibm_runtime)\n",
            "  Downloading requests_ntlm-1.3.0-py3-none-any.whl.metadata (2.4 kB)\n",
            "Requirement already satisfied: numpy>=1.13 in /usr/local/lib/python3.11/dist-packages (from qiskit_ibm_runtime) (2.0.2)\n",
            "Requirement already satisfied: urllib3>=1.21.1 in /usr/local/lib/python3.11/dist-packages (from qiskit_ibm_runtime) (2.4.0)\n",
            "Requirement already satisfied: python-dateutil>=2.8.0 in /usr/local/lib/python3.11/dist-packages (from qiskit_ibm_runtime) (2.9.0.post0)\n",
            "Collecting ibm-platform-services>=0.22.6 (from qiskit_ibm_runtime)\n",
            "  Downloading ibm_platform_services-0.66.1-py3-none-any.whl.metadata (9.0 kB)\n",
            "Requirement already satisfied: pydantic>=2.5.0 in /usr/local/lib/python3.11/dist-packages (from qiskit_ibm_runtime) (2.11.5)\n",
            "Requirement already satisfied: qiskit>=1.4.1 in /usr/local/lib/python3.11/dist-packages (from qiskit_ibm_runtime) (2.0.2)\n",
            "Requirement already satisfied: packaging in /usr/local/lib/python3.11/dist-packages (from qiskit_ibm_runtime) (24.2)\n",
            "Collecting ibm_cloud_sdk_core<4.0.0,>=3.24.1 (from ibm-platform-services>=0.22.6->qiskit_ibm_runtime)\n",
            "  Downloading ibm_cloud_sdk_core-3.24.1-py3-none-any.whl.metadata (8.7 kB)\n",
            "Requirement already satisfied: annotated-types>=0.6.0 in /usr/local/lib/python3.11/dist-packages (from pydantic>=2.5.0->qiskit_ibm_runtime) (0.7.0)\n",
            "Requirement already satisfied: pydantic-core==2.33.2 in /usr/local/lib/python3.11/dist-packages (from pydantic>=2.5.0->qiskit_ibm_runtime) (2.33.2)\n",
            "Requirement already satisfied: typing-extensions>=4.12.2 in /usr/local/lib/python3.11/dist-packages (from pydantic>=2.5.0->qiskit_ibm_runtime) (4.13.2)\n",
            "Requirement already satisfied: typing-inspection>=0.4.0 in /usr/local/lib/python3.11/dist-packages (from pydantic>=2.5.0->qiskit_ibm_runtime) (0.4.1)\n",
            "Requirement already satisfied: six>=1.5 in /usr/local/lib/python3.11/dist-packages (from python-dateutil>=2.8.0->qiskit_ibm_runtime) (1.17.0)\n",
            "Requirement already satisfied: rustworkx>=0.15.0 in /usr/local/lib/python3.11/dist-packages (from qiskit>=1.4.1->qiskit_ibm_runtime) (0.16.0)\n",
            "Requirement already satisfied: scipy>=1.5 in /usr/local/lib/python3.11/dist-packages (from qiskit>=1.4.1->qiskit_ibm_runtime) (1.15.3)\n",
            "Requirement already satisfied: sympy>=1.3 in /usr/local/lib/python3.11/dist-packages (from qiskit>=1.4.1->qiskit_ibm_runtime) (1.13.1)\n",
            "Requirement already satisfied: dill>=0.3 in /usr/local/lib/python3.11/dist-packages (from qiskit>=1.4.1->qiskit_ibm_runtime) (0.3.7)\n",
            "Requirement already satisfied: stevedore>=3.0.0 in /usr/local/lib/python3.11/dist-packages (from qiskit>=1.4.1->qiskit_ibm_runtime) (5.4.1)\n",
            "Requirement already satisfied: symengine<0.14,>=0.11 in /usr/local/lib/python3.11/dist-packages (from qiskit>=1.4.1->qiskit_ibm_runtime) (0.13.0)\n",
            "Requirement already satisfied: charset-normalizer<4,>=2 in /usr/local/lib/python3.11/dist-packages (from requests>=2.19->qiskit_ibm_runtime) (3.4.2)\n",
            "Requirement already satisfied: idna<4,>=2.5 in /usr/local/lib/python3.11/dist-packages (from requests>=2.19->qiskit_ibm_runtime) (3.10)\n",
            "Requirement already satisfied: certifi>=2017.4.17 in /usr/local/lib/python3.11/dist-packages (from requests>=2.19->qiskit_ibm_runtime) (2025.4.26)\n",
            "Requirement already satisfied: cryptography>=1.3 in /usr/local/lib/python3.11/dist-packages (from requests-ntlm>=1.1.0->qiskit_ibm_runtime) (43.0.3)\n",
            "Collecting pyspnego>=0.4.0 (from requests-ntlm>=1.1.0->qiskit_ibm_runtime)\n",
            "  Downloading pyspnego-0.11.2-py3-none-any.whl.metadata (5.4 kB)\n",
            "Requirement already satisfied: cffi>=1.12 in /usr/local/lib/python3.11/dist-packages (from cryptography>=1.3->requests-ntlm>=1.1.0->qiskit_ibm_runtime) (1.17.1)\n",
            "Requirement already satisfied: PyJWT<3.0.0,>=2.8.0 in /usr/local/lib/python3.11/dist-packages (from ibm_cloud_sdk_core<4.0.0,>=3.24.1->ibm-platform-services>=0.22.6->qiskit_ibm_runtime) (2.10.1)\n",
            "Requirement already satisfied: pbr>=2.0.0 in /usr/local/lib/python3.11/dist-packages (from stevedore>=3.0.0->qiskit>=1.4.1->qiskit_ibm_runtime) (6.1.1)\n",
            "Requirement already satisfied: mpmath<1.4,>=1.1.0 in /usr/local/lib/python3.11/dist-packages (from sympy>=1.3->qiskit>=1.4.1->qiskit_ibm_runtime) (1.3.0)\n",
            "Requirement already satisfied: pycparser in /usr/local/lib/python3.11/dist-packages (from cffi>=1.12->cryptography>=1.3->requests-ntlm>=1.1.0->qiskit_ibm_runtime) (2.22)\n",
            "Requirement already satisfied: setuptools in /usr/local/lib/python3.11/dist-packages (from pbr>=2.0.0->stevedore>=3.0.0->qiskit>=1.4.1->qiskit_ibm_runtime) (75.2.0)\n",
            "Downloading qiskit_ibm_runtime-0.40.0-py3-none-any.whl (3.2 MB)\n",
            "\u001b[2K   \u001b[90m━━━━━━━━━━━━━━━━━━━━━━━━━━━━━━━━━━━━━━━━\u001b[0m \u001b[32m3.2/3.2 MB\u001b[0m \u001b[31m54.2 MB/s\u001b[0m eta \u001b[36m0:00:00\u001b[0m\n",
            "\u001b[?25hDownloading ibm_platform_services-0.66.1-py3-none-any.whl (363 kB)\n",
            "\u001b[2K   \u001b[90m━━━━━━━━━━━━━━━━━━━━━━━━━━━━━━━━━━━━━━━━\u001b[0m \u001b[32m363.9/363.9 kB\u001b[0m \u001b[31m26.9 MB/s\u001b[0m eta \u001b[36m0:00:00\u001b[0m\n",
            "\u001b[?25hDownloading requests_ntlm-1.3.0-py3-none-any.whl (6.6 kB)\n",
            "Downloading ibm_cloud_sdk_core-3.24.1-py3-none-any.whl (75 kB)\n",
            "\u001b[2K   \u001b[90m━━━━━━━━━━━━━━━━━━━━━━━━━━━━━━━━━━━━━━━━\u001b[0m \u001b[32m75.8/75.8 kB\u001b[0m \u001b[31m6.1 MB/s\u001b[0m eta \u001b[36m0:00:00\u001b[0m\n",
            "\u001b[?25hDownloading pyspnego-0.11.2-py3-none-any.whl (130 kB)\n",
            "\u001b[2K   \u001b[90m━━━━━━━━━━━━━━━━━━━━━━━━━━━━━━━━━━━━━━━━\u001b[0m \u001b[32m130.5/130.5 kB\u001b[0m \u001b[31m10.6 MB/s\u001b[0m eta \u001b[36m0:00:00\u001b[0m\n",
            "\u001b[?25hInstalling collected packages: ibm_cloud_sdk_core, pyspnego, ibm-platform-services, requests-ntlm, qiskit_ibm_runtime\n",
            "Successfully installed ibm-platform-services-0.66.1 ibm_cloud_sdk_core-3.24.1 pyspnego-0.11.2 qiskit_ibm_runtime-0.40.0 requests-ntlm-1.3.0\n"
          ]
        }
      ],
      "source": [
        "# install Qiskit with visualization\n",
        "\n",
        "!pip install qiskit[visualization]\n",
        "!pip install qiskit_ibm_runtime"
      ]
    },
    {
      "cell_type": "code",
      "execution_count": 2,
      "id": "d32bc7b5",
      "metadata": {
        "id": "d32bc7b5"
      },
      "outputs": [],
      "source": [
        "# install additional packages\n",
        "\n",
        "from qiskit import QuantumCircuit\n",
        "from qiskit.visualization import plot_histogram\n",
        "from qiskit_ibm_runtime import QiskitRuntimeService\n",
        "from qiskit_ibm_runtime import SamplerV2 as Sampler\n",
        "from qiskit.transpiler.preset_passmanagers import generate_preset_pass_manager\n",
        "import math\n",
        "import matplotlib.pyplot as plt"
      ]
    },
    {
      "cell_type": "code",
      "source": [
        "## Save your IBM Quantum account and set it as your default account.\n",
        "QiskitRuntimeService.save_account(\n",
        "\n",
        "    channel=\"ibm_cloud\",\n",
        "\n",
        "    token=\"PMKZYFq-m2_IXYK5jh6bVEIsa_PheIM4R_PUshVVekVI\",\n",
        "\n",
        "    set_as_default=True,\n",
        "\n",
        "    # Use `overwrite=True` if you're updating your token.\n",
        "    #overwrite=True,\n",
        ")\n",
        "\n",
        "# Load saved credentials\n",
        "service = QiskitRuntimeService()"
      ],
      "metadata": {
        "id": "2PG41vqPWZBR"
      },
      "id": "2PG41vqPWZBR",
      "execution_count": 3,
      "outputs": []
    },
    {
      "cell_type": "code",
      "execution_count": 4,
      "id": "dff395a3",
      "metadata": {
        "id": "dff395a3"
      },
      "outputs": [],
      "source": [
        "# define Magic 8 Ball responses\n",
        "\n",
        "responses = [\"yes\", \"no\", \"maybe\", \"try again\", \"not likely\", \"absolutely\", \"certainly\", \"computer says no\"]"
      ]
    },
    {
      "cell_type": "markdown",
      "source": [
        "## Qiskit Patterns: Map problem to quantum circuits\n",
        "\n",
        "We can think of this step as mapping our problem to be run on a quantum computer. This step needs to be done for any quantum computation, because our instinct is to think of problems in a classical way, while quantum computers work differently.\n",
        "\n",
        "Problem:\n",
        "I need a program to generate a random number out of 8.\n",
        "\n",
        "Mapping to a classical computer: generate a random integer in range(1,9)\n",
        "\n",
        "Mapping to a quantum computer: put 3 qubits into an equal superposition, which creates a quantum state vector with 8 basis states, each with an equal probability of being the result of a measurement"
      ],
      "metadata": {
        "id": "NUD6VkyuRET1"
      },
      "id": "NUD6VkyuRET1"
    },
    {
      "cell_type": "code",
      "execution_count": 5,
      "id": "1568e5ff",
      "metadata": {
        "id": "1568e5ff",
        "colab": {
          "base_uri": "https://localhost:8080/",
          "height": 320
        },
        "outputId": "c4105a3d-49fe-4845-fb0e-9d92c1d07f5d"
      },
      "outputs": [
        {
          "output_type": "execute_result",
          "data": {
            "text/plain": [
              "<Figure size 580.387x367.889 with 1 Axes>"
            ],
            "image/png": "[encoded data removed]"
          },
          "metadata": {},
          "execution_count": 5
        }
      ],
      "source": [
        "# set up a Quantum circuit with 3 qubits\n",
        "qc = QuantumCircuit(3)\n",
        "\n",
        "# place a Hadamard gate on qubits 0, 1, and 2\n",
        "qc.h(0)\n",
        "qc.h(1)\n",
        "qc.h(2)\n",
        "\n",
        "# add a measurement to your circuit\n",
        "qc.measure_all()\n",
        "\n",
        "# visualize your circuit before running it\n",
        "qc.draw('mpl')"
      ]
    },
    {
      "cell_type": "markdown",
      "source": [
        "## Qiskit Patterns: Optimize for target hardware"
      ],
      "metadata": {
        "id": "annsL69BSI0u"
      },
      "id": "annsL69BSI0u"
    },
    {
      "cell_type": "code",
      "execution_count": 7,
      "id": "e7dc87be",
      "metadata": {
        "id": "e7dc87be",
        "colab": {
          "base_uri": "https://localhost:8080/",
          "height": 35
        },
        "outputId": "47193869-1850-4b3c-cfea-37836ae54e2a"
      },
      "outputs": [
        {
          "output_type": "execute_result",
          "data": {
            "text/plain": [
              "'ibm_torino'"
            ],
            "application/vnd.google.colaboratory.intrinsic+json": {
              "type": "string"
            }
          },
          "metadata": {},
          "execution_count": 7
        }
      ],
      "source": [
        "# instantiate runtime, choose backend\n",
        "service = QiskitRuntimeService(channel=\"ibm_cloud\", instance=\"crn:v1:bluemix:public:quantum-computing:us-east:a/e358b98904974802b88b5ff19a674bbc:b752e37a-738f-40d7-86fc-98893c49a08b::\")\n",
        "backend = service.least_busy(simulator=False, operational=True)\n",
        "backend.name"
      ]
    },
    {
      "cell_type": "code",
      "source": [
        "# transpile circuit\n",
        "pm = generate_preset_pass_manager(backend=backend, optimization_level=1)\n",
        "isa_circuit = pm.run(qc)\n",
        "\n",
        "\n",
        "# visualize transpiled circuit\n",
        "isa_circuit.draw('mpl', idle_wires=False)\n"
      ],
      "metadata": {
        "id": "58vuBLyyXT7n",
        "colab": {
          "base_uri": "https://localhost:8080/",
          "height": 332
        },
        "outputId": "7f8d9c93-fbec-4ff3-fc65-f9bd8e3b4040"
      },
      "id": "58vuBLyyXT7n",
      "execution_count": 8,
      "outputs": [
        {
          "output_type": "execute_result",
          "data": {
            "text/plain": [
              "<Figure size 758.234x367.889 with 1 Axes>"
            ],
            "image/png": "[encoded data removed]"
          },
          "metadata": {},
          "execution_count": 8
        }
      ]
    },
    {
      "cell_type": "markdown",
      "source": [
        "## Qiskit Patterns: Execute on target hardware"
      ],
      "metadata": {
        "id": "A5qNH7RXSfJE"
      },
      "id": "A5qNH7RXSfJE"
    },
    {
      "cell_type": "code",
      "source": [
        "# run job for desired number of shots\n",
        "sampler = Sampler(mode=backend)\n",
        "job = sampler.run([isa_circuit], shots=1024)\n",
        "print(job.job_id())\n"
      ],
      "metadata": {
        "id": "5lT3KcYfX8Fy",
        "colab": {
          "base_uri": "https://localhost:8080/"
        },
        "outputId": "273c8f8a-d263-4d2f-8422-9016e3a9eb88"
      },
      "id": "5lT3KcYfX8Fy",
      "execution_count": 9,
      "outputs": [
        {
          "output_type": "stream",
          "name": "stdout",
          "text": [
            "d10r4pqsnc2c73bg1f8g\n"
          ]
        }
      ]
    },
    {
      "cell_type": "markdown",
      "source": [
        "## Qiskit Patterns: Post-process results\n",
        "On the [IBM Quantum platform](https://quantum.ibm.com/), you should click into either your most recent job (if this is your most recent) or the job matching the ID that was output above if you had multiple jobs running. They will give you a piece of dynamic code within that workload readout that looks like the below but will autopopulate your API token and job ID when copy pasted."
      ],
      "metadata": {
        "id": "aBxQK54NSmM5"
      },
      "id": "aBxQK54NSmM5"
    },
    {
      "cell_type": "code",
      "source": [
        "from qiskit_ibm_runtime import QiskitRuntimeService\n",
        "\n",
        "service = QiskitRuntimeService(\n",
        "    channel='ibm_cloud',\n",
        "    instance='crn:v1:bluemix:public:quantum-computing:us-east:a/e358b98904974802b88b5ff19a674bbc:b752e37a-738f-40d7-86fc-98893c49a08b::',\n",
        "    token='PMKZYFq-m2_IXYK5jh6bVEIsa_PheIM4R_PUshVVekVI'\n",
        ")\n",
        "job = service.job('d10r4pqsnc2c73bg1f8g')\n",
        "job_result = job.result()"
      ],
      "metadata": {
        "id": "fdxLpWhhhdCY"
      },
      "id": "fdxLpWhhhdCY",
      "execution_count": 10,
      "outputs": []
    },
    {
      "cell_type": "code",
      "source": [
        "# get results in the form of counts\n",
        "counts = job_result[0].data.meas.get_counts()"
      ],
      "metadata": {
        "id": "N3g6kRPVu-C7"
      },
      "id": "N3g6kRPVu-C7",
      "execution_count": 11,
      "outputs": []
    },
    {
      "cell_type": "code",
      "source": [
        "# plot results\n",
        "plot_histogram(counts)\n"
      ],
      "metadata": {
        "id": "20KV3UUcdIib",
        "colab": {
          "base_uri": "https://localhost:8080/",
          "height": 487
        },
        "outputId": "84e8ca5a-3909-4f3f-e1ed-e72b0f9544c5"
      },
      "id": "20KV3UUcdIib",
      "execution_count": 12,
      "outputs": [
        {
          "output_type": "execute_result",
          "data": {
            "text/plain": [
              "<Figure size 640x480 with 1 Axes>"
            ],
            "image/png": "[encoded data removed]"
          },
          "metadata": {},
          "execution_count": 12
        }
      ]
    },
    {
      "cell_type": "markdown",
      "source": [
        "We have modeled what it would look like to get 1024 separate responses from our Magic 8 Ball. We could just run it again, one time, to get a response for a single question (you are welcome to do so). For the sake of time, however, I will just take the first sampled measurement as our answer. The bitstrings in our counts item are added in the order that they were measured, so they are still random."
      ],
      "metadata": {
        "id": "_VR-oQsGUd3d"
      },
      "id": "_VR-oQsGUd3d"
    },
    {
      "cell_type": "code",
      "source": [
        "# accessing the first key of the dict item containing our results\n",
        "first_key = list(counts.keys())[0]\n",
        "print(counts)\n",
        "print(counts.keys())\n",
        "print(first_key)\n",
        "\n",
        "# turning that string into an integer\n",
        "# result is given in base 2, so we need to communicate that because the int() function assumes base 10 as default\n",
        "integer_value = int(first_key, 2)\n",
        "print(integer_value)\n",
        "\n",
        "# returns our Magic 8 Ball response\n",
        "print(responses[integer_value])\n",
        "print (qc.cregs)"
      ],
      "metadata": {
        "id": "drl7lytlVeQ1",
        "colab": {
          "base_uri": "https://localhost:8080/"
        },
        "outputId": "4344b394-8cda-450f-8ecb-1008cb2cd76f"
      },
      "id": "drl7lytlVeQ1",
      "execution_count": 22,
      "outputs": [
        {
          "output_type": "stream",
          "name": "stdout",
          "text": [
            "{'110': 151, '010': 175, '011': 108, '100': 109, '000': 130, '101': 103, '001': 136, '111': 112}\n",
            "dict_keys(['110', '010', '011', '100', '000', '101', '001', '111'])\n",
            "110\n",
            "6\n",
            "certainly\n",
            "[ClassicalRegister(3, 'meas')]\n"
          ]
        }
      ]
    },
    {
      "cell_type": "markdown",
      "source": [
        "### Expanding on the Magic 8 Ball\n",
        "\n",
        "What if we could create a biased Magic 8 Ball, one that would increase the likelihood of measuring outcomes associated with positive or negative responses?"
      ],
      "metadata": {
        "id": "2poiQQS1TAeQ"
      },
      "id": "2poiQQS1TAeQ"
    },
    {
      "cell_type": "markdown",
      "source": [
        "### Qiskit Patterns: Map problem to quantum circuits"
      ],
      "metadata": {
        "id": "JImXfELz1psL"
      },
      "id": "JImXfELz1psL"
    },
    {
      "cell_type": "code",
      "source": [
        "# set up a Quantum circuit with 3 qubits\n",
        "\n",
        "\n",
        "# place a Hadamard gate on qubits 0, 1, and 2\n",
        "\n",
        "\n",
        "# weight the likelihood of certain outcomes by using an Ry gate\n",
        "\n",
        "\n",
        "# add a measurement to your circuit\n",
        "\n",
        "\n",
        "# visualize the circuit before running it\n"
      ],
      "metadata": {
        "id": "rdPk0najTHjQ"
      },
      "id": "rdPk0najTHjQ",
      "execution_count": null,
      "outputs": []
    },
    {
      "cell_type": "markdown",
      "source": [
        "### Qiskit Patterns: Optimize for target hardware"
      ],
      "metadata": {
        "id": "_wPM1rAg2CqX"
      },
      "id": "_wPM1rAg2CqX"
    },
    {
      "cell_type": "code",
      "source": [
        "# instantiate runtime service, choose backend\n",
        "\n"
      ],
      "metadata": {
        "id": "mOq6FooTDdcL"
      },
      "id": "mOq6FooTDdcL",
      "execution_count": null,
      "outputs": []
    },
    {
      "cell_type": "code",
      "source": [
        "# transpile circuit\n",
        "\n",
        "\n",
        "\n",
        "# visualize transpiled circuit\n",
        "\n"
      ],
      "metadata": {
        "id": "sjmtLPuLTLwe"
      },
      "id": "sjmtLPuLTLwe",
      "execution_count": null,
      "outputs": []
    },
    {
      "cell_type": "markdown",
      "source": [
        "### Qiskit Patterns: Execute on target hardware"
      ],
      "metadata": {
        "id": "w8NHFBJI2Ina"
      },
      "id": "w8NHFBJI2Ina"
    },
    {
      "cell_type": "code",
      "source": [
        "# run job for desired number of shots\n",
        "\n"
      ],
      "metadata": {
        "id": "dNI8FrzzDrEE"
      },
      "id": "dNI8FrzzDrEE",
      "execution_count": null,
      "outputs": []
    },
    {
      "cell_type": "markdown",
      "source": [
        "### Qiskit Patterns: Post-process results"
      ],
      "metadata": {
        "id": "koiusO-22Mei"
      },
      "id": "koiusO-22Mei"
    },
    {
      "cell_type": "code",
      "source": [
        "from qiskit_ibm_runtime import QiskitRuntimeService\n",
        "\n",
        "service = QiskitRuntimeService(\n",
        "    channel='ibm_quantum',\n",
        "    instance='ibm-q/open/main',\n",
        "    token='YOURTOKENHERE'\n",
        ")\n",
        "job = service.job('YOURJOBID')\n",
        "job_result = job.result()"
      ],
      "metadata": {
        "id": "Ds_24wt2K08q"
      },
      "id": "Ds_24wt2K08q",
      "execution_count": null,
      "outputs": []
    },
    {
      "cell_type": "code",
      "source": [
        "# get results in the form of counts\n",
        "\n"
      ],
      "metadata": {
        "id": "F1PkwDpQK4EQ"
      },
      "id": "F1PkwDpQK4EQ",
      "execution_count": null,
      "outputs": []
    },
    {
      "cell_type": "code",
      "source": [
        "# plot results\n",
        "\n"
      ],
      "metadata": {
        "id": "-P7pYlTjK6ux"
      },
      "id": "-P7pYlTjK6ux",
      "execution_count": null,
      "outputs": []
    },
    {
      "cell_type": "code",
      "source": [
        "# accessing the first key of the dict item containing our results\n",
        "first_key = list(counts.keys())[0]\n",
        "\n",
        "# turning that string into an integer\n",
        "# result is given in base 2, so we need to communicate that because the int() function assumes base 10 as default\n",
        "integer_value = int(first_key, 2)\n",
        "\n",
        "# returns our Magic 8 Ball response\n",
        "print(responses[integer_value])"
      ],
      "metadata": {
        "id": "VXns0Qcmd8fK"
      },
      "id": "VXns0Qcmd8fK",
      "execution_count": null,
      "outputs": []
    },
    {
      "cell_type": "markdown",
      "id": "a8e71158",
      "metadata": {
        "id": "a8e71158"
      },
      "source": [
        "### Developing your own program using the StatevectorSampler\n",
        "\n",
        "Bell circuits are specific circuits which generate Bell states, or EPR pairs, a form of entangled and normalized basis vectors. In other words, they are the circuits we use to generate entangled states, a key ingredient in quantum computations.\n",
        "\n",
        "There exist 4 different Bell states. You can learn about each from the [Basics of Quantum Information page.](https://learning.quantum.ibm.com/course/basics-of-quantum-information/multiple-systems#bell-states)\n",
        "\n",
        "Your Task: please build a circuit that generates the  |𝜓−⟩  Bell state.\n"
      ]
    },
    {
      "cell_type": "markdown",
      "source": [
        "### Qiskit Patterns: Map problem to quantum circuits"
      ],
      "metadata": {
        "id": "6PZ22OHp2t9b"
      },
      "id": "6PZ22OHp2t9b"
    },
    {
      "cell_type": "code",
      "execution_count": null,
      "id": "977c2924",
      "metadata": {
        "id": "977c2924"
      },
      "outputs": [],
      "source": [
        "# Build a circuit to form a psi-minus Bell state\n",
        "\n",
        "\n"
      ]
    },
    {
      "cell_type": "markdown",
      "source": [
        "### Qiskit Patterns: Optimize for target hardware"
      ],
      "metadata": {
        "id": "3xvF_Ml72yJu"
      },
      "id": "3xvF_Ml72yJu"
    },
    {
      "cell_type": "code",
      "source": [
        "# instantiate runtime service, choose backend\n",
        "\n"
      ],
      "metadata": {
        "id": "jz72e2ylOjyb"
      },
      "id": "jz72e2ylOjyb",
      "execution_count": null,
      "outputs": []
    },
    {
      "cell_type": "code",
      "source": [
        "# transpile circuit\n",
        "\n",
        "\n",
        "\n",
        "# visualize transpiled circuit\n",
        "\n"
      ],
      "metadata": {
        "id": "1L2VKtoWOoFL"
      },
      "id": "1L2VKtoWOoFL",
      "execution_count": null,
      "outputs": []
    },
    {
      "cell_type": "markdown",
      "source": [
        "### Qiskit Patterns: Execute on target hardware"
      ],
      "metadata": {
        "id": "dE26qt5b21vm"
      },
      "id": "dE26qt5b21vm"
    },
    {
      "cell_type": "code",
      "source": [
        "# run job for desired number of shots\n",
        "\n"
      ],
      "metadata": {
        "id": "tbqSO1tHOunX"
      },
      "id": "tbqSO1tHOunX",
      "execution_count": null,
      "outputs": []
    },
    {
      "cell_type": "markdown",
      "source": [
        "### Qiskit Patterns: Post-process results"
      ],
      "metadata": {
        "id": "USWo7pkd26sh"
      },
      "id": "USWo7pkd26sh"
    },
    {
      "cell_type": "code",
      "source": [
        "from qiskit_ibm_runtime import QiskitRuntimeService\n",
        "\n",
        "service = QiskitRuntimeService(\n",
        "    channel='ibm_quantum',\n",
        "    instance='ibm-q/open/main',\n",
        "    token='YOURTOKENHERE'\n",
        ")\n",
        "job = service.job('YOURJOBID')\n",
        "job_result = job.result()"
      ],
      "metadata": {
        "id": "fMcQUEv2OvTK"
      },
      "id": "fMcQUEv2OvTK",
      "execution_count": null,
      "outputs": []
    },
    {
      "cell_type": "code",
      "source": [
        "# get results in the form of counts\n",
        "\n"
      ],
      "metadata": {
        "id": "ddMgzUQCOz_g"
      },
      "id": "ddMgzUQCOz_g",
      "execution_count": null,
      "outputs": []
    },
    {
      "cell_type": "code",
      "source": [
        "# plot results\n",
        "\n"
      ],
      "metadata": {
        "id": "CaGr8C9QO3EB"
      },
      "id": "CaGr8C9QO3EB",
      "execution_count": null,
      "outputs": []
    },
    {
      "cell_type": "markdown",
      "id": "ecd72653",
      "metadata": {
        "id": "ecd72653"
      },
      "source": [
        "For an additional challenge, we will develop a slightly more complicated circuit. Similarly to Bell states circuit producing Bell states, W-state circuits produce W states. Although Bell states entangle two qubits, W-states entangle three qubits. We will provide some specifics of the operation for today. If you are interested in learning more about W-states, check out this [Wikipedia article.](https://en.wikipedia.org/wiki/W_state)\n",
        "\n",
        "To build our W-state, we will follow 6 simple steps:\n",
        "- Initialize our 3 qubit circuit\n",
        "- Perform an Ry rotation on our qubit. The specifics of this operation are provided.\n",
        "- Perform a controlled hadamard gate on qubit 1, with control qubit 0\n",
        "- Add a CNOT gate with control qubit 1 and target qubit 2\n",
        "- Add a CNOT gate with control qubit 0 and target qubit 1\n",
        "- Add a X gate on qubit 0"
      ]
    },
    {
      "cell_type": "markdown",
      "source": [
        "### Qiskit Patterns: Map problem to quantum circuits"
      ],
      "metadata": {
        "id": "mjy4i1MY2_6K"
      },
      "id": "mjy4i1MY2_6K"
    },
    {
      "cell_type": "code",
      "execution_count": null,
      "id": "93d34dc1",
      "metadata": {
        "id": "93d34dc1"
      },
      "outputs": [],
      "source": [
        "# Let's create and draw a W-state circuit\n",
        "\n",
        "wstate = QuantumCircuit(3)\n",
        "\n",
        "wstate.ry(1.91063324, 0)\n",
        "\n",
        "\n"
      ]
    },
    {
      "cell_type": "markdown",
      "source": [
        "### Qiskit Patterns: Optimize for target hardware"
      ],
      "metadata": {
        "id": "wSHOSs6d3HFS"
      },
      "id": "wSHOSs6d3HFS"
    },
    {
      "cell_type": "code",
      "source": [
        "# instantiate runtime service, choose backend\n",
        "\n"
      ],
      "metadata": {
        "id": "luZm2PNLO5kd"
      },
      "id": "luZm2PNLO5kd",
      "execution_count": null,
      "outputs": []
    },
    {
      "cell_type": "code",
      "source": [
        "# transpile circuit\n",
        "\n",
        "\n",
        "# visualize transpiled circuit\n",
        "\n"
      ],
      "metadata": {
        "id": "ubV7Pro0O8yL"
      },
      "id": "ubV7Pro0O8yL",
      "execution_count": null,
      "outputs": []
    },
    {
      "cell_type": "markdown",
      "source": [
        "### Qiskit Patterns: Execute on target hardware"
      ],
      "metadata": {
        "id": "mm5-FqIS3MMI"
      },
      "id": "mm5-FqIS3MMI"
    },
    {
      "cell_type": "code",
      "source": [
        "# run job for desired number of shots\n",
        "\n"
      ],
      "metadata": {
        "id": "O5Ulb8sEO-5D"
      },
      "id": "O5Ulb8sEO-5D",
      "execution_count": null,
      "outputs": []
    },
    {
      "cell_type": "markdown",
      "source": [
        "### Qiskit Patterns: Post-process results"
      ],
      "metadata": {
        "id": "ORdiifes3Zl1"
      },
      "id": "ORdiifes3Zl1"
    },
    {
      "cell_type": "code",
      "source": [
        "from qiskit_ibm_runtime import QiskitRuntimeService\n",
        "\n",
        "service = QiskitRuntimeService(\n",
        "    channel='ibm_quantum',\n",
        "    instance='ibm-q/open/main',\n",
        "    token='YOURTOKENHERE'\n",
        ")\n",
        "job = service.job('YOURJOBID')\n",
        "job_result = job.result()"
      ],
      "metadata": {
        "id": "LuBVbyGpPB-N"
      },
      "id": "LuBVbyGpPB-N",
      "execution_count": null,
      "outputs": []
    },
    {
      "cell_type": "code",
      "source": [
        "# get results in the form of counts\n",
        "\n"
      ],
      "metadata": {
        "id": "ztKjY35UPDpf"
      },
      "id": "ztKjY35UPDpf",
      "execution_count": null,
      "outputs": []
    },
    {
      "cell_type": "code",
      "source": [
        "# plot results\n",
        "\n"
      ],
      "metadata": {
        "id": "wiQaVH2BPGSA"
      },
      "id": "wiQaVH2BPGSA",
      "execution_count": null,
      "outputs": []
    }
  ],
  "metadata": {
    "kernelspec": {
      "display_name": "Python 3 (ipykernel)",
      "language": "python",
      "name": "python3"
    },
    "language_info": {
      "codemirror_mode": {
        "name": "ipython",
        "version": 3
      },
      "file_extension": ".py",
      "mimetype": "text/x-python",
      "name": "python",
      "nbconvert_exporter": "python",
      "pygments_lexer": "ipython3",
      "version": "3.9.7"
    },
    "colab": {
      "provenance": [],
      "include_colab_link": true
    }
  },
  "nbformat": 4,
  "nbformat_minor": 5
}